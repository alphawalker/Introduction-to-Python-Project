{
 "cells": [
  {
   "cell_type": "code",
   "execution_count": 1,
   "metadata": {},
   "outputs": [],
   "source": [
    "#3 kata yang diblacklist yaitu andi susi bola\n",
    "blw = ['andi', 'susi', 'bola']\n",
    "def blacklist(l1, l2):\n",
    "    result = False\n",
    "    for x in l1:\n",
    "        for y in l2:\n",
    "            if x == y:\n",
    "                return 'Ada black list word' \n",
    "            else:\n",
    "                return 'Tidak ada black list word'         \n",
    "    return result"
   ]
  },
  {
   "cell_type": "code",
   "execution_count": 2,
   "metadata": {},
   "outputs": [],
   "source": [
    "def sentence2(kalimat):\n",
    "    kalimat = kalimat.split(' ')\n",
    "    print(blacklist(blw, kalimat))"
   ]
  },
  {
   "cell_type": "code",
   "execution_count": 3,
   "metadata": {},
   "outputs": [
    {
     "name": "stdout",
     "output_type": "stream",
     "text": [
      "Ada black list word\n",
      "Tidak ada black list word\n",
      "Ada black list word\n",
      "Tidak ada black list word\n",
      "Tidak ada black list word\n",
      "Tidak ada black list word\n"
     ]
    }
   ],
   "source": [
    "sentence2(\"andi sedang makan nasi padang\")\n",
    "sentence2(\"sandi sedang makan bermain tenis\")\n",
    "sentence2(\"andi dan sandi sedang makan\")\n",
    "sentence2(\"budi dan susi sedang makan\")\n",
    "sentence2(\"erna sedang berenang\")\n",
    "sentence2(\"raffa sedang makan bermain bola\")"
   ]
  },
  {
   "cell_type": "code",
   "execution_count": null,
   "metadata": {},
   "outputs": [],
   "source": []
  }
 ],
 "metadata": {
  "kernelspec": {
   "display_name": "Python 3",
   "language": "python",
   "name": "python3"
  },
  "language_info": {
   "codemirror_mode": {
    "name": "ipython",
    "version": 3
   },
   "file_extension": ".py",
   "mimetype": "text/x-python",
   "name": "python",
   "nbconvert_exporter": "python",
   "pygments_lexer": "ipython3",
   "version": "3.8.5"
  }
 },
 "nbformat": 4,
 "nbformat_minor": 4
}
